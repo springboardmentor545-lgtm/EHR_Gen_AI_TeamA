{
  "cells": [
    {
      "cell_type": "code",
      "execution_count": 20,
      "metadata": {
        "id": "IjtRaDqzzDWi"
      },
      "outputs": [],
      "source": [
        "# =====================================================\n",
        "# 📌 Milestone 1: Data Collection & Preprocessing\n",
        "# Project: AI-Powered Enhanced EHR Imaging & Documentation System\n",
        "# =====================================================\n",
        "\n",
        "# -------------------------------\n",
        "# Step 0: Install Required Libraries\n",
        "# -------------------------------\n",
        "!pip install -q kaggle pandas numpy pillow opencv-python pdfplumber pydicom\n"
      ]
    },
    {
      "cell_type": "code",
      "execution_count": 21,
      "metadata": {
        "colab": {
          "base_uri": "https://localhost:8080/",
          "height": 73
        },
        "id": "hRQ4M7eDzIJl",
        "outputId": "2200cb70-80ba-4a78-e4c7-1fd0917eb7e0"
      },
      "outputs": [
        {
          "output_type": "display_data",
          "data": {
            "text/plain": [
              "<IPython.core.display.HTML object>"
            ],
            "text/html": [
              "\n",
              "     <input type=\"file\" id=\"files-4975e77f-d815-459b-8c11-a135831ecb5e\" name=\"files[]\" multiple disabled\n",
              "        style=\"border:none\" />\n",
              "     <output id=\"result-4975e77f-d815-459b-8c11-a135831ecb5e\">\n",
              "      Upload widget is only available when the cell has been executed in the\n",
              "      current browser session. Please rerun this cell to enable.\n",
              "      </output>\n",
              "      <script>// Copyright 2017 Google LLC\n",
              "//\n",
              "// Licensed under the Apache License, Version 2.0 (the \"License\");\n",
              "// you may not use this file except in compliance with the License.\n",
              "// You may obtain a copy of the License at\n",
              "//\n",
              "//      http://www.apache.org/licenses/LICENSE-2.0\n",
              "//\n",
              "// Unless required by applicable law or agreed to in writing, software\n",
              "// distributed under the License is distributed on an \"AS IS\" BASIS,\n",
              "// WITHOUT WARRANTIES OR CONDITIONS OF ANY KIND, either express or implied.\n",
              "// See the License for the specific language governing permissions and\n",
              "// limitations under the License.\n",
              "\n",
              "/**\n",
              " * @fileoverview Helpers for google.colab Python module.\n",
              " */\n",
              "(function(scope) {\n",
              "function span(text, styleAttributes = {}) {\n",
              "  const element = document.createElement('span');\n",
              "  element.textContent = text;\n",
              "  for (const key of Object.keys(styleAttributes)) {\n",
              "    element.style[key] = styleAttributes[key];\n",
              "  }\n",
              "  return element;\n",
              "}\n",
              "\n",
              "// Max number of bytes which will be uploaded at a time.\n",
              "const MAX_PAYLOAD_SIZE = 100 * 1024;\n",
              "\n",
              "function _uploadFiles(inputId, outputId) {\n",
              "  const steps = uploadFilesStep(inputId, outputId);\n",
              "  const outputElement = document.getElementById(outputId);\n",
              "  // Cache steps on the outputElement to make it available for the next call\n",
              "  // to uploadFilesContinue from Python.\n",
              "  outputElement.steps = steps;\n",
              "\n",
              "  return _uploadFilesContinue(outputId);\n",
              "}\n",
              "\n",
              "// This is roughly an async generator (not supported in the browser yet),\n",
              "// where there are multiple asynchronous steps and the Python side is going\n",
              "// to poll for completion of each step.\n",
              "// This uses a Promise to block the python side on completion of each step,\n",
              "// then passes the result of the previous step as the input to the next step.\n",
              "function _uploadFilesContinue(outputId) {\n",
              "  const outputElement = document.getElementById(outputId);\n",
              "  const steps = outputElement.steps;\n",
              "\n",
              "  const next = steps.next(outputElement.lastPromiseValue);\n",
              "  return Promise.resolve(next.value.promise).then((value) => {\n",
              "    // Cache the last promise value to make it available to the next\n",
              "    // step of the generator.\n",
              "    outputElement.lastPromiseValue = value;\n",
              "    return next.value.response;\n",
              "  });\n",
              "}\n",
              "\n",
              "/**\n",
              " * Generator function which is called between each async step of the upload\n",
              " * process.\n",
              " * @param {string} inputId Element ID of the input file picker element.\n",
              " * @param {string} outputId Element ID of the output display.\n",
              " * @return {!Iterable<!Object>} Iterable of next steps.\n",
              " */\n",
              "function* uploadFilesStep(inputId, outputId) {\n",
              "  const inputElement = document.getElementById(inputId);\n",
              "  inputElement.disabled = false;\n",
              "\n",
              "  const outputElement = document.getElementById(outputId);\n",
              "  outputElement.innerHTML = '';\n",
              "\n",
              "  const pickedPromise = new Promise((resolve) => {\n",
              "    inputElement.addEventListener('change', (e) => {\n",
              "      resolve(e.target.files);\n",
              "    });\n",
              "  });\n",
              "\n",
              "  const cancel = document.createElement('button');\n",
              "  inputElement.parentElement.appendChild(cancel);\n",
              "  cancel.textContent = 'Cancel upload';\n",
              "  const cancelPromise = new Promise((resolve) => {\n",
              "    cancel.onclick = () => {\n",
              "      resolve(null);\n",
              "    };\n",
              "  });\n",
              "\n",
              "  // Wait for the user to pick the files.\n",
              "  const files = yield {\n",
              "    promise: Promise.race([pickedPromise, cancelPromise]),\n",
              "    response: {\n",
              "      action: 'starting',\n",
              "    }\n",
              "  };\n",
              "\n",
              "  cancel.remove();\n",
              "\n",
              "  // Disable the input element since further picks are not allowed.\n",
              "  inputElement.disabled = true;\n",
              "\n",
              "  if (!files) {\n",
              "    return {\n",
              "      response: {\n",
              "        action: 'complete',\n",
              "      }\n",
              "    };\n",
              "  }\n",
              "\n",
              "  for (const file of files) {\n",
              "    const li = document.createElement('li');\n",
              "    li.append(span(file.name, {fontWeight: 'bold'}));\n",
              "    li.append(span(\n",
              "        `(${file.type || 'n/a'}) - ${file.size} bytes, ` +\n",
              "        `last modified: ${\n",
              "            file.lastModifiedDate ? file.lastModifiedDate.toLocaleDateString() :\n",
              "                                    'n/a'} - `));\n",
              "    const percent = span('0% done');\n",
              "    li.appendChild(percent);\n",
              "\n",
              "    outputElement.appendChild(li);\n",
              "\n",
              "    const fileDataPromise = new Promise((resolve) => {\n",
              "      const reader = new FileReader();\n",
              "      reader.onload = (e) => {\n",
              "        resolve(e.target.result);\n",
              "      };\n",
              "      reader.readAsArrayBuffer(file);\n",
              "    });\n",
              "    // Wait for the data to be ready.\n",
              "    let fileData = yield {\n",
              "      promise: fileDataPromise,\n",
              "      response: {\n",
              "        action: 'continue',\n",
              "      }\n",
              "    };\n",
              "\n",
              "    // Use a chunked sending to avoid message size limits. See b/62115660.\n",
              "    let position = 0;\n",
              "    do {\n",
              "      const length = Math.min(fileData.byteLength - position, MAX_PAYLOAD_SIZE);\n",
              "      const chunk = new Uint8Array(fileData, position, length);\n",
              "      position += length;\n",
              "\n",
              "      const base64 = btoa(String.fromCharCode.apply(null, chunk));\n",
              "      yield {\n",
              "        response: {\n",
              "          action: 'append',\n",
              "          file: file.name,\n",
              "          data: base64,\n",
              "        },\n",
              "      };\n",
              "\n",
              "      let percentDone = fileData.byteLength === 0 ?\n",
              "          100 :\n",
              "          Math.round((position / fileData.byteLength) * 100);\n",
              "      percent.textContent = `${percentDone}% done`;\n",
              "\n",
              "    } while (position < fileData.byteLength);\n",
              "  }\n",
              "\n",
              "  // All done.\n",
              "  yield {\n",
              "    response: {\n",
              "      action: 'complete',\n",
              "    }\n",
              "  };\n",
              "}\n",
              "\n",
              "scope.google = scope.google || {};\n",
              "scope.google.colab = scope.google.colab || {};\n",
              "scope.google.colab._files = {\n",
              "  _uploadFiles,\n",
              "  _uploadFilesContinue,\n",
              "};\n",
              "})(self);\n",
              "</script> "
            ]
          },
          "metadata": {}
        },
        {
          "output_type": "stream",
          "name": "stdout",
          "text": [
            "Saving kaggle.json to kaggle.json\n"
          ]
        }
      ],
      "source": [
        "# -------------------------------\n",
        "# Step 1: Upload Kaggle API Key\n",
        "# -------------------------------\n",
        "from google.colab import files\n",
        "uploaded = files.upload()  # Upload your kaggle.json here\n",
        "\n",
        "# Move it to correct folder\n",
        "!mkdir -p ~/.kaggle\n",
        "!mv kaggle.json ~/.kaggle/\n",
        "!chmod 600 ~/.kaggle/kaggle.json"
      ]
    },
    {
      "cell_type": "code",
      "execution_count": 65,
      "metadata": {
        "id": "o9mJxqExz36z"
      },
      "outputs": [],
      "source": [
        "# -------------------------------\n",
        "# Step 2: Create Project Folders\n",
        "# -------------------------------\n",
        "import os\n",
        "folders = [\n",
        "    \"data/raw/images\",\n",
        "    \"data/raw/notes\",\n",
        "    \"data/images_processed\",\n",
        "    \"data/ehr_notes_processed\",\n",
        "    \"data\"\n",
        "]\n",
        "for f in folders:\n",
        "    os.makedirs(f, exist_ok=True)"
      ]
    },
    {
      "cell_type": "code",
      "execution_count": 66,
      "metadata": {
        "colab": {
          "base_uri": "https://localhost:8080/"
        },
        "id": "PeRynFWV0B02",
        "outputId": "7dd923b9-c7ee-4960-e11a-4945929fb48c"
      },
      "outputs": [
        {
          "output_type": "stream",
          "name": "stdout",
          "text": [
            "Dataset URL: https://www.kaggle.com/datasets/tawsifurrahman/covid19-radiography-database\n",
            "License(s): copyright-authors\n",
            "User cancelled operation\n",
            "unzip:  cannot find or open data/raw/images/covid19-radiography-database.zip, data/raw/images/covid19-radiography-database.zip.zip or data/raw/images/covid19-radiography-database.zip.ZIP.\n",
            "rm: cannot remove 'data/raw/images/covid19-radiography-database.zip': No such file or directory\n",
            "Dataset URL: https://www.kaggle.com/datasets/tboyle10/medicaltranscriptions\n",
            "License(s): CC0-1.0\n",
            "Downloading medicaltranscriptions.zip to data/raw/notes\n",
            "  0% 0.00/4.85M [00:00<?, ?B/s]\n",
            "100% 4.85M/4.85M [00:00<00:00, 687MB/s]\n",
            "replace data/raw/notes/mtsamples.csv? [y]es, [n]o, [A]ll, [N]one, [r]ename: Sample images: ['COVID-19_Radiography_Dataset']\n",
            "Sample EHR notes: ['mtsamples.csv']\n"
          ]
        }
      ],
      "source": [
        "# -------------------------------\n",
        "# Step 3: Download Datasets from Kaggl\n",
        "# -------------------------------\n",
        "\n",
        "# 3a) COVID-19 Radiography Database (X-ray)\n",
        "!kaggle datasets download -d tawsifurrahman/covid19-radiography-database -p data/raw/images/\n",
        "!unzip -q data/raw/images/covid19-radiography-database.zip -d data/raw/images/\n",
        "!rm data/raw/images/covid19-radiography-database.zip\n",
        "\n",
        "# 3b) Medical Transcriptions (EHR notes)\n",
        "!kaggle datasets download -d tboyle10/medicaltranscriptions -p data/raw/notes/\n",
        "!unzip -q data/raw/notes/medicaltranscriptions.zip -d data/raw/notes/\n",
        "!rm data/raw/notes/medicaltranscriptions.zip\n",
        "\n",
        "# Verify downloads\n",
        "print(\"Sample images:\", os.listdir(\"data/raw/images/\")[:5])\n",
        "print(\"Sample EHR notes:\", os.listdir(\"data/raw/notes/\")[:5])"
      ]
    },
    {
      "cell_type": "code",
      "execution_count": 67,
      "metadata": {
        "colab": {
          "base_uri": "https://localhost:8080/"
        },
        "id": "5f10x46N0H9P",
        "outputId": "22bd323b-6046-487c-9542-7a6d29603769"
      },
      "outputs": [
        {
          "output_type": "stream",
          "name": "stdout",
          "text": [
            "Total images found: 42330\n",
            "Processed images saved to: data/images_processed/\n",
            "Total processed images: 21165\n"
          ]
        }
      ],
      "source": [
        "# -------------------------------\n",
        "# Step 4: Process Medical Images\n",
        "# -------------------------------\n",
        "from PIL import Image\n",
        "import pydicom\n",
        "import glob\n",
        "import os\n",
        "\n",
        "SRC_IMG = \"data/raw/images/\"\n",
        "DST_IMG = \"data/images_processed/\"\n",
        "TARGET = (256, 256)\n",
        "\n",
        "os.makedirs(DST_IMG, exist_ok=True)\n",
        "\n",
        "# Get all image files recursively\n",
        "images = glob.glob(SRC_IMG + \"**/*.png\", recursive=True)\n",
        "images += glob.glob(SRC_IMG + \"**/*.jpg\", recursive=True)\n",
        "images += glob.glob(SRC_IMG + \"**/*.jpeg\", recursive=True)\n",
        "images += glob.glob(SRC_IMG + \"**/*.dcm\", recursive=True)\n",
        "\n",
        "print(\"Total images found:\", len(images))\n",
        "\n",
        "# Process and save\n",
        "for path in images:\n",
        "    try:\n",
        "        fn = os.path.basename(path)\n",
        "        if fn.lower().endswith('.dcm'):\n",
        "            import pydicom\n",
        "            ds = pydicom.dcmread(path)\n",
        "            arr = ds.pixel_array.astype(float)\n",
        "            arr = 255*(arr - arr.min())/(arr.max() - arr.min())\n",
        "            img = Image.fromarray(arr.astype('uint8')).convert('L')\n",
        "        else:\n",
        "            img = Image.open(path).convert('L')\n",
        "        img = img.resize(TARGET)\n",
        "        outname = os.path.splitext(fn)[0] + '.png'\n",
        "        img.save(os.path.join(DST_IMG, outname))\n",
        "    except Exception as e:\n",
        "        print(\"Skipping\", path, \"due to\", e)\n",
        "\n",
        "print(\"Processed images saved to:\", DST_IMG)\n",
        "print(\"Total processed images:\", len(os.listdir(DST_IMG)))"
      ]
    },
    {
      "cell_type": "code",
      "execution_count": 68,
      "metadata": {
        "id": "_AvGeFl90Ul3",
        "colab": {
          "base_uri": "https://localhost:8080/"
        },
        "outputId": "04772efc-65f9-4976-cc8b-91ca984d488a"
      },
      "outputs": [
        {
          "output_type": "stream",
          "name": "stdout",
          "text": [
            "Total records in CSV: 4999\n",
            "Columns: Index(['Unnamed: 0', 'description', 'medical_specialty', 'sample_name',\n",
            "       'transcription', 'keywords'],\n",
            "      dtype='object')\n",
            "Processed EHR notes saved to: data/ehr_notes_processed/\n",
            "Total processed notes: 4999\n"
          ]
        }
      ],
      "source": [
        "# -------------------------------\n",
        "# Step 5: Extract & Clean EHR Notes\n",
        "# -------------------------------\n",
        "import pandas as pd\n",
        "import os\n",
        "\n",
        "SRC_NOTES = \"data/raw/notes/mtsamples.csv\"\n",
        "DST_NOTES = \"data/ehr_notes_processed/\"\n",
        "os.makedirs(DST_NOTES, exist_ok=True)\n",
        "\n",
        "# Read CSV\n",
        "df = pd.read_csv(SRC_NOTES)\n",
        "print(\"Total records in CSV:\", len(df))\n",
        "print(\"Columns:\", df.columns)\n",
        "\n",
        "# Use 'transcription' column (or the relevant one) to create text files\n",
        "for i, row in df.iterrows():\n",
        "    text = str(row['transcription'])  # adjust column name if different\n",
        "    pid = f\"{i+1:04d}\"\n",
        "    outfn = os.path.join(DST_NOTES, f\"note_{pid}.txt\")\n",
        "    with open(outfn, 'w', encoding='utf-8') as f:\n",
        "        f.write(text)\n",
        "\n",
        "print(\"Processed EHR notes saved to:\", DST_NOTES)\n",
        "print(\"Total processed notes:\", len(os.listdir(DST_NOTES)))\n"
      ]
    },
    {
      "cell_type": "code",
      "execution_count": 70,
      "metadata": {
        "colab": {
          "base_uri": "https://localhost:8080/"
        },
        "id": "7HlIoozd0cpu",
        "outputId": "6685c85a-b266-48b3-90b6-b94c5fd0e9ac"
      },
      "outputs": [
        {
          "output_type": "stream",
          "name": "stdout",
          "text": [
            "Total images: 21165\n",
            "Total notes: 4999\n",
            "mapping.csv created with 4999 records\n"
          ]
        }
      ],
      "source": [
        "# -------------------------------\n",
        "# Step 6: Create Mapping CSV\n",
        "# -------------------------------\n",
        "import glob\n",
        "import pandas as pd\n",
        "import os\n",
        "\n",
        "DST_IMG = 'data/images_processed/'\n",
        "DST_NOTES = 'data/ehr_notes_processed/'\n",
        "os.makedirs('data', exist_ok=True)\n",
        "\n",
        "# Get all processed images and notes\n",
        "images = sorted(glob.glob(DST_IMG + '*.png'))\n",
        "notes = sorted(glob.glob(DST_NOTES + '*.txt'))\n",
        "\n",
        "print(\"Total images:\", len(images))\n",
        "print(\"Total notes:\", len(notes))\n",
        "\n",
        "if len(images) == 0 or len(notes) == 0:\n",
        "    print(\"No images or notes found. CSV will be empty.\")\n",
        "else:\n",
        "    rows = []\n",
        "    for i, img in enumerate(images[:len(notes)]):  # truncate to smaller count\n",
        "        pid = f\"{i+1:04d}\"\n",
        "        rows.append({\n",
        "            'file_id': pid,\n",
        "            'image_path': img,\n",
        "            'note_path': notes[i],\n",
        "            'diagnosis':'',\n",
        "            'icd10':''\n",
        "        })\n",
        "\n",
        "    mapping_df = pd.DataFrame(rows)\n",
        "    mapping_df.to_csv('data/mapping.csv', index=False)\n",
        "    print(\"mapping.csv created with\", len(mapping_df), \"records\")\n"
      ]
    },
    {
      "cell_type": "code",
      "execution_count": 71,
      "metadata": {
        "colab": {
          "base_uri": "https://localhost:8080/"
        },
        "id": "ppS7_iuW0iNs",
        "outputId": "6b5b11e2-674a-49cc-8bfe-b10399b55352"
      },
      "outputs": [
        {
          "output_type": "stream",
          "name": "stdout",
          "text": [
            "ICD lookup table saved.\n",
            "Sample Note: Patient has hypertension and diabetes.\n",
            "Predicted ICD-10: I10, E11.9\n"
          ]
        }
      ],
      "source": [
        "# -------------------------------\n",
        "# Step 7: ICD-10 Lookup Table\n",
        "# -------------------------------\n",
        "import pandas as pd\n",
        "\n",
        "# ICD-10 lookup table\n",
        "lookup_data = {\n",
        "    \"condition_keyword\": [\"pneumonia\", \"hypertension\", \"diabetes\"],\n",
        "    \"icd10_code\": [\"J18.9\", \"I10\", \"E11.9\"],\n",
        "    \"icd10_description\": [\n",
        "        \"Pneumonia, unspecified\",\n",
        "        \"Essential (primary) hypertension\",\n",
        "        \"Type 2 diabetes mellitus without complications\"\n",
        "    ]\n",
        "}\n",
        "lookup_df = pd.DataFrame(lookup_data)\n",
        "lookup_df.to_csv('data/icd_lookup.csv', index=False)\n",
        "print(\"ICD lookup table saved.\")\n",
        "\n",
        "# Function to suggest ICD codes from note text\n",
        "def suggest_icd(note_text):\n",
        "    \"\"\"\n",
        "    Returns all matching ICD-10 codes for a given note text.\n",
        "    If no match, returns 'UNKNOWN'.\n",
        "    \"\"\"\n",
        "    t = note_text.lower()\n",
        "    codes = []\n",
        "    for _, r in lookup_df.iterrows():\n",
        "        if r['condition_keyword'].lower() in t:\n",
        "            codes.append(r['icd10_code'])\n",
        "    return \", \".join(codes) if codes else 'UNKNOWN'\n",
        "\n",
        "# Example test\n",
        "sample_note = \"Patient has hypertension and diabetes.\"\n",
        "predicted_icd = suggest_icd(sample_note)\n",
        "print(\"Sample Note:\", sample_note)\n",
        "print(\"Predicted ICD-10:\", predicted_icd)\n"
      ]
    },
    {
      "cell_type": "code",
      "execution_count": 72,
      "metadata": {
        "colab": {
          "base_uri": "https://localhost:8080/"
        },
        "id": "ybyoa2dV0pDq",
        "outputId": "21abc62d-ecec-438a-a60d-e19a92b9fdce"
      },
      "outputs": [
        {
          "output_type": "stream",
          "name": "stdout",
          "text": [
            "Total records in mapping.csv: 4999\n",
            "Missing images: 0\n",
            "Missing notes: 0\n",
            "Bad ICD codes: 388\n",
            "    file_id       icd10\n",
            "1         2  I10, E11.9\n",
            "2         3  I10, E11.9\n",
            "13       14  I10, E11.9\n",
            "19       20  I10, E11.9\n",
            "67       68  I10, E11.9\n",
            "Sanity checks completed and mapping.csv updated with ICD codes.\n"
          ]
        }
      ],
      "source": [
        "# -------------------------------\n",
        "# Step 8: Sanity Checks & ICD Auto-Fill (Fixed)\n",
        "# -------------------------------\n",
        "import pandas as pd\n",
        "import os\n",
        "import re\n",
        "\n",
        "mapping_path = 'data/mapping.csv'\n",
        "\n",
        "# Check if mapping.csv exists and is not empty\n",
        "if not os.path.exists(mapping_path) or os.path.getsize(mapping_path) == 0:\n",
        "    print(\"mapping.csv is missing or empty. Please run previous steps.\")\n",
        "else:\n",
        "    m = pd.read_csv(mapping_path)\n",
        "    print(\"Total records in mapping.csv:\", len(m))\n",
        "\n",
        "    # -------------------------------\n",
        "    # Check for missing image files\n",
        "    # -------------------------------\n",
        "    missing_images = m[~m['image_path'].apply(os.path.exists)]\n",
        "    print(\"Missing images:\", len(missing_images))\n",
        "    if len(missing_images) > 0:\n",
        "        print(missing_images[['file_id','image_path']].head())\n",
        "\n",
        "    # -------------------------------\n",
        "    # Check for missing note files\n",
        "    # -------------------------------\n",
        "    missing_notes = m[~m['note_path'].apply(os.path.exists)]\n",
        "    print(\"Missing notes:\", len(missing_notes))\n",
        "    if len(missing_notes) > 0:\n",
        "        print(missing_notes[['file_id','note_path']].head())\n",
        "\n",
        "    # -------------------------------\n",
        "    # Ensure icd10 column is string type\n",
        "    # -------------------------------\n",
        "    m['icd10'] = m['icd10'].astype(str)\n",
        "\n",
        "    # -------------------------------\n",
        "    # Fill NaN or UNKNOWN ICD codes using lookup table\n",
        "    # -------------------------------\n",
        "    def suggest_icd(note_text):\n",
        "        t = note_text.lower()\n",
        "        codes = []\n",
        "        for _, r in lookup_df.iterrows():\n",
        "            if r['condition_keyword'].lower() in t:\n",
        "                codes.append(r['icd10_code'])\n",
        "        return \", \".join(codes) if codes else 'UNKNOWN'\n",
        "\n",
        "    for i, row in m.iterrows():\n",
        "        icd_value = row['icd10'].strip()\n",
        "        if icd_value == '' or icd_value.upper() in ['NAN','UNKNOWN']:\n",
        "            try:\n",
        "                with open(row['note_path'], 'r', encoding='utf-8') as f:\n",
        "                    text = f.read()\n",
        "                m.at[i, 'icd10'] = suggest_icd(text)\n",
        "            except:\n",
        "                m.at[i, 'icd10'] = 'UNKNOWN'\n",
        "\n",
        "    # -------------------------------\n",
        "    # Check ICD-10 code format\n",
        "    # -------------------------------\n",
        "    icd_pattern = re.compile(r'^[A-Z][0-9]{2}(?:\\.[0-9A-Za-z]{1,4})?$')\n",
        "\n",
        "    def is_bad_icd(x):\n",
        "        x_str = str(x).strip()\n",
        "        if x_str == '' or x_str.upper() == 'UNKNOWN':\n",
        "            return False\n",
        "        return not bool(icd_pattern.match(x_str))\n",
        "\n",
        "    bad_icd = m[m['icd10'].apply(is_bad_icd)]\n",
        "    print(\"Bad ICD codes:\", len(bad_icd))\n",
        "    if len(bad_icd) > 0:\n",
        "        print(bad_icd[['file_id','icd10']].head())\n",
        "\n",
        "    # -------------------------------\n",
        "    # Save updated mapping CSV\n",
        "    # -------------------------------\n",
        "    m.to_csv(mapping_path, index=False)\n",
        "    print(\"Sanity checks completed and mapping.csv updated with ICD codes.\")\n"
      ]
    },
    {
      "cell_type": "code",
      "execution_count": 73,
      "metadata": {
        "id": "qN2CENF-0xO0",
        "colab": {
          "base_uri": "https://localhost:8080/"
        },
        "outputId": "4065e3ae-2f02-4023-cbc1-1b877b65d2ae"
      },
      "outputs": [
        {
          "output_type": "stream",
          "name": "stdout",
          "text": [
            "\n",
            "Milestone 1 Complete ✅:\n",
            "- Datasets downloaded and cleaned\n",
            "- Images processed (PNG, 256x256)\n",
            "- EHR notes extracted (TXT)\n",
            "- Mapping CSV created\n",
            "- ICD lookup table ready\n",
            "- Sanity checks done\n",
            "\n"
          ]
        }
      ],
      "source": [
        "\n",
        "# -------------------------------\n",
        "# ✅ Milestone 1 Completed\n",
        "# -------------------------------\n",
        "print(\"\"\"\n",
        "Milestone 1 Complete ✅:\n",
        "- Datasets downloaded and cleaned\n",
        "- Images processed (PNG, 256x256)\n",
        "- EHR notes extracted (TXT)\n",
        "- Mapping CSV created\n",
        "- ICD lookup table ready\n",
        "- Sanity checks done\n",
        "\"\"\")"
      ]
    }
  ],
  "metadata": {
    "colab": {
      "provenance": []
    },
    "kernelspec": {
      "display_name": "Python 3",
      "name": "python3"
    },
    "language_info": {
      "name": "python"
    }
  },
  "nbformat": 4,
  "nbformat_minor": 0
}